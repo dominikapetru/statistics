{
 "cells": [
  {
   "cell_type": "markdown",
   "id": "a495f2bb-94ec-4b58-bb1c-4626ee8d9070",
   "metadata": {
    "tags": []
   },
   "source": [
    "# Statistics"
   ]
  },
  {
   "cell_type": "markdown",
   "id": "0f801c42-1f7f-49b2-8106-bc2b6f4b6acc",
   "metadata": {},
   "source": [
    "#### Imports"
   ]
  },
  {
   "cell_type": "code",
   "execution_count": 39,
   "id": "63742ff4-e673-408e-959a-df8ddda00163",
   "metadata": {},
   "outputs": [],
   "source": [
    "import numpy as np\n",
    "import pandas as pd\n",
    "import matplotlib.pyplot as plt\n",
    "import seaborn as sns\n",
    "import random\n",
    "import statistics\n",
    "import scipy\n",
    "from scipy import stats"
   ]
  },
  {
   "cell_type": "markdown",
   "id": "4bdfcbbc-ad70-4a52-b29f-33123adc15a1",
   "metadata": {},
   "source": [
    "## Level 1"
   ]
  },
  {
   "cell_type": "markdown",
   "id": "88668458-52f1-4752-b6c1-64dee155b26c",
   "metadata": {},
   "source": [
    "### Exercise 1"
   ]
  },
  {
   "cell_type": "markdown",
   "id": "838c6691-2857-468a-9f1d-80fadd7e8b01",
   "metadata": {},
   "source": [
    "#### Statistics"
   ]
  },
  {
   "cell_type": "markdown",
   "id": "87564fb6-b31c-484b-97e5-d65a1e7e9073",
   "metadata": {},
   "source": [
    "Working with data set from kaggle.com about city bikes in Helsinki. https://www.kaggle.com/geometrein/helsinki-city-bikes"
   ]
  },
  {
   "cell_type": "code",
   "execution_count": 3,
   "id": "67246084-bb03-481d-94ae-82f8e228ea2a",
   "metadata": {},
   "outputs": [],
   "source": [
    "bike_df = pd.read_csv('database.csv',low_memory=False)"
   ]
  },
  {
   "cell_type": "code",
   "execution_count": 4,
   "id": "1b8c13cb-f3e1-4c6a-abca-226c84d49aa5",
   "metadata": {},
   "outputs": [
    {
     "data": {
      "text/html": [
       "<div>\n",
       "<style scoped>\n",
       "    .dataframe tbody tr th:only-of-type {\n",
       "        vertical-align: middle;\n",
       "    }\n",
       "\n",
       "    .dataframe tbody tr th {\n",
       "        vertical-align: top;\n",
       "    }\n",
       "\n",
       "    .dataframe thead th {\n",
       "        text-align: right;\n",
       "    }\n",
       "</style>\n",
       "<table border=\"1\" class=\"dataframe\">\n",
       "  <thead>\n",
       "    <tr style=\"text-align: right;\">\n",
       "      <th></th>\n",
       "      <th>departure</th>\n",
       "      <th>return</th>\n",
       "      <th>departure_id</th>\n",
       "      <th>departure_name</th>\n",
       "      <th>return_id</th>\n",
       "      <th>return_name</th>\n",
       "      <th>distance (m)</th>\n",
       "      <th>duration (sec.)</th>\n",
       "      <th>avg_speed (km/h)</th>\n",
       "      <th>departure_latitude</th>\n",
       "      <th>departure_longitude</th>\n",
       "      <th>return_latitude</th>\n",
       "      <th>return_longitude</th>\n",
       "      <th>Air temperature (degC)</th>\n",
       "    </tr>\n",
       "  </thead>\n",
       "  <tbody>\n",
       "    <tr>\n",
       "      <th>0</th>\n",
       "      <td>2020-03-23 06:09:44</td>\n",
       "      <td>2020-03-23 06:16:26</td>\n",
       "      <td>86</td>\n",
       "      <td>Kuusitie</td>\n",
       "      <td>111.0</td>\n",
       "      <td>Esterinportti</td>\n",
       "      <td>1747.0</td>\n",
       "      <td>401.0</td>\n",
       "      <td>0.261397</td>\n",
       "      <td>60.195245</td>\n",
       "      <td>24.901900</td>\n",
       "      <td>60.197572</td>\n",
       "      <td>24.926781</td>\n",
       "      <td>0.9</td>\n",
       "    </tr>\n",
       "    <tr>\n",
       "      <th>1</th>\n",
       "      <td>2020-03-23 06:11:58</td>\n",
       "      <td>2020-03-23 06:26:31</td>\n",
       "      <td>26</td>\n",
       "      <td>Kamppi (M)</td>\n",
       "      <td>10.0</td>\n",
       "      <td>Kasarmitori</td>\n",
       "      <td>1447.0</td>\n",
       "      <td>869.0</td>\n",
       "      <td>0.099908</td>\n",
       "      <td>60.168610</td>\n",
       "      <td>24.930537</td>\n",
       "      <td>60.165017</td>\n",
       "      <td>24.949473</td>\n",
       "      <td>0.9</td>\n",
       "    </tr>\n",
       "    <tr>\n",
       "      <th>2</th>\n",
       "      <td>2020-03-23 06:16:29</td>\n",
       "      <td>2020-03-23 06:24:23</td>\n",
       "      <td>268</td>\n",
       "      <td>Porolahden koulu</td>\n",
       "      <td>254.0</td>\n",
       "      <td>Agnetankuja</td>\n",
       "      <td>1772.0</td>\n",
       "      <td>469.0</td>\n",
       "      <td>0.226695</td>\n",
       "      <td>60.195540</td>\n",
       "      <td>25.053581</td>\n",
       "      <td>60.187234</td>\n",
       "      <td>25.036412</td>\n",
       "      <td>0.9</td>\n",
       "    </tr>\n",
       "  </tbody>\n",
       "</table>\n",
       "</div>"
      ],
      "text/plain": [
       "             departure               return departure_id    departure_name  \\\n",
       "0  2020-03-23 06:09:44  2020-03-23 06:16:26           86          Kuusitie   \n",
       "1  2020-03-23 06:11:58  2020-03-23 06:26:31           26        Kamppi (M)   \n",
       "2  2020-03-23 06:16:29  2020-03-23 06:24:23          268  Porolahden koulu   \n",
       "\n",
       "  return_id    return_name  distance (m)  duration (sec.)  avg_speed (km/h)  \\\n",
       "0     111.0  Esterinportti        1747.0            401.0          0.261397   \n",
       "1      10.0    Kasarmitori        1447.0            869.0          0.099908   \n",
       "2     254.0    Agnetankuja        1772.0            469.0          0.226695   \n",
       "\n",
       "   departure_latitude  departure_longitude  return_latitude  return_longitude  \\\n",
       "0           60.195245            24.901900        60.197572         24.926781   \n",
       "1           60.168610            24.930537        60.165017         24.949473   \n",
       "2           60.195540            25.053581        60.187234         25.036412   \n",
       "\n",
       "   Air temperature (degC)  \n",
       "0                     0.9  \n",
       "1                     0.9  \n",
       "2                     0.9  "
      ]
     },
     "execution_count": 4,
     "metadata": {},
     "output_type": "execute_result"
    }
   ],
   "source": [
    "bike_df.head(3)"
   ]
  },
  {
   "cell_type": "code",
   "execution_count": 5,
   "id": "56a996eb-0477-4940-bd87-d0c6dd758301",
   "metadata": {},
   "outputs": [],
   "source": [
    "#renaming columns\n",
    "bike_df.rename(columns={'duration (sec.)': 'duration_sec'}, inplace=True)\n",
    "bike_df.rename(columns={'distance (m)': 'distance_m'}, inplace=True)\n",
    "bike_df.rename(columns={'avg_speed (km/h)': 'avg_speed_km_h'}, inplace=True)\n",
    "bike_df.rename(columns={'Air temperature (degC)': 'air_temperature_C'}, inplace=True)"
   ]
  },
  {
   "cell_type": "code",
   "execution_count": 6,
   "id": "12e3a523-3d0b-4bd2-b62e-377da196450c",
   "metadata": {},
   "outputs": [
    {
     "data": {
      "text/html": [
       "<div>\n",
       "<style scoped>\n",
       "    .dataframe tbody tr th:only-of-type {\n",
       "        vertical-align: middle;\n",
       "    }\n",
       "\n",
       "    .dataframe tbody tr th {\n",
       "        vertical-align: top;\n",
       "    }\n",
       "\n",
       "    .dataframe thead th {\n",
       "        text-align: right;\n",
       "    }\n",
       "</style>\n",
       "<table border=\"1\" class=\"dataframe\">\n",
       "  <thead>\n",
       "    <tr style=\"text-align: right;\">\n",
       "      <th></th>\n",
       "      <th>departure</th>\n",
       "      <th>return</th>\n",
       "      <th>departure_id</th>\n",
       "      <th>departure_name</th>\n",
       "      <th>return_id</th>\n",
       "      <th>return_name</th>\n",
       "      <th>distance_m</th>\n",
       "      <th>duration_sec</th>\n",
       "      <th>avg_speed_km_h</th>\n",
       "      <th>departure_latitude</th>\n",
       "      <th>departure_longitude</th>\n",
       "      <th>return_latitude</th>\n",
       "      <th>return_longitude</th>\n",
       "      <th>air_temperature_C</th>\n",
       "    </tr>\n",
       "  </thead>\n",
       "  <tbody>\n",
       "    <tr>\n",
       "      <th>0</th>\n",
       "      <td>2020-03-23 06:09:44</td>\n",
       "      <td>2020-03-23 06:16:26</td>\n",
       "      <td>86</td>\n",
       "      <td>Kuusitie</td>\n",
       "      <td>111.0</td>\n",
       "      <td>Esterinportti</td>\n",
       "      <td>1747.0</td>\n",
       "      <td>401.0</td>\n",
       "      <td>0.261397</td>\n",
       "      <td>60.195245</td>\n",
       "      <td>24.901900</td>\n",
       "      <td>60.197572</td>\n",
       "      <td>24.926781</td>\n",
       "      <td>0.9</td>\n",
       "    </tr>\n",
       "    <tr>\n",
       "      <th>1</th>\n",
       "      <td>2020-03-23 06:11:58</td>\n",
       "      <td>2020-03-23 06:26:31</td>\n",
       "      <td>26</td>\n",
       "      <td>Kamppi (M)</td>\n",
       "      <td>10.0</td>\n",
       "      <td>Kasarmitori</td>\n",
       "      <td>1447.0</td>\n",
       "      <td>869.0</td>\n",
       "      <td>0.099908</td>\n",
       "      <td>60.168610</td>\n",
       "      <td>24.930537</td>\n",
       "      <td>60.165017</td>\n",
       "      <td>24.949473</td>\n",
       "      <td>0.9</td>\n",
       "    </tr>\n",
       "    <tr>\n",
       "      <th>2</th>\n",
       "      <td>2020-03-23 06:16:29</td>\n",
       "      <td>2020-03-23 06:24:23</td>\n",
       "      <td>268</td>\n",
       "      <td>Porolahden koulu</td>\n",
       "      <td>254.0</td>\n",
       "      <td>Agnetankuja</td>\n",
       "      <td>1772.0</td>\n",
       "      <td>469.0</td>\n",
       "      <td>0.226695</td>\n",
       "      <td>60.195540</td>\n",
       "      <td>25.053581</td>\n",
       "      <td>60.187234</td>\n",
       "      <td>25.036412</td>\n",
       "      <td>0.9</td>\n",
       "    </tr>\n",
       "  </tbody>\n",
       "</table>\n",
       "</div>"
      ],
      "text/plain": [
       "             departure               return departure_id    departure_name  \\\n",
       "0  2020-03-23 06:09:44  2020-03-23 06:16:26           86          Kuusitie   \n",
       "1  2020-03-23 06:11:58  2020-03-23 06:26:31           26        Kamppi (M)   \n",
       "2  2020-03-23 06:16:29  2020-03-23 06:24:23          268  Porolahden koulu   \n",
       "\n",
       "  return_id    return_name  distance_m  duration_sec  avg_speed_km_h  \\\n",
       "0     111.0  Esterinportti      1747.0         401.0        0.261397   \n",
       "1      10.0    Kasarmitori      1447.0         869.0        0.099908   \n",
       "2     254.0    Agnetankuja      1772.0         469.0        0.226695   \n",
       "\n",
       "   departure_latitude  departure_longitude  return_latitude  return_longitude  \\\n",
       "0           60.195245            24.901900        60.197572         24.926781   \n",
       "1           60.168610            24.930537        60.165017         24.949473   \n",
       "2           60.195540            25.053581        60.187234         25.036412   \n",
       "\n",
       "   air_temperature_C  \n",
       "0                0.9  \n",
       "1                0.9  \n",
       "2                0.9  "
      ]
     },
     "execution_count": 6,
     "metadata": {},
     "output_type": "execute_result"
    }
   ],
   "source": [
    "bike_df.head(3)"
   ]
  },
  {
   "cell_type": "code",
   "execution_count": 7,
   "id": "515db5ac-126c-4b7e-ad87-e49355c33410",
   "metadata": {},
   "outputs": [
    {
     "name": "stdout",
     "output_type": "stream",
     "text": [
      "<class 'pandas.core.frame.DataFrame'>\n",
      "RangeIndex: 12157458 entries, 0 to 12157457\n",
      "Data columns (total 14 columns):\n",
      " #   Column               Dtype  \n",
      "---  ------               -----  \n",
      " 0   departure            object \n",
      " 1   return               object \n",
      " 2   departure_id         object \n",
      " 3   departure_name       object \n",
      " 4   return_id            object \n",
      " 5   return_name          object \n",
      " 6   distance_m           float64\n",
      " 7   duration_sec         float64\n",
      " 8   avg_speed_km_h       float64\n",
      " 9   departure_latitude   float64\n",
      " 10  departure_longitude  float64\n",
      " 11  return_latitude      float64\n",
      " 12  return_longitude     float64\n",
      " 13  air_temperature_C    float64\n",
      "dtypes: float64(8), object(6)\n",
      "memory usage: 1.3+ GB\n"
     ]
    }
   ],
   "source": [
    "bike_df.info()"
   ]
  },
  {
   "cell_type": "code",
   "execution_count": 8,
   "id": "569b7ede-ad0f-475b-a454-e3f4743b0ad7",
   "metadata": {},
   "outputs": [
    {
     "data": {
      "text/html": [
       "<div>\n",
       "<style scoped>\n",
       "    .dataframe tbody tr th:only-of-type {\n",
       "        vertical-align: middle;\n",
       "    }\n",
       "\n",
       "    .dataframe tbody tr th {\n",
       "        vertical-align: top;\n",
       "    }\n",
       "\n",
       "    .dataframe thead th {\n",
       "        text-align: right;\n",
       "    }\n",
       "</style>\n",
       "<table border=\"1\" class=\"dataframe\">\n",
       "  <thead>\n",
       "    <tr style=\"text-align: right;\">\n",
       "      <th></th>\n",
       "      <th>distance_m</th>\n",
       "      <th>duration_sec</th>\n",
       "      <th>avg_speed_km_h</th>\n",
       "      <th>departure_latitude</th>\n",
       "      <th>departure_longitude</th>\n",
       "      <th>return_latitude</th>\n",
       "      <th>return_longitude</th>\n",
       "      <th>air_temperature_C</th>\n",
       "    </tr>\n",
       "  </thead>\n",
       "  <tbody>\n",
       "    <tr>\n",
       "      <th>count</th>\n",
       "      <td>1.215746e+07</td>\n",
       "      <td>1.215746e+07</td>\n",
       "      <td>1.215391e+07</td>\n",
       "      <td>1.215746e+07</td>\n",
       "      <td>1.215746e+07</td>\n",
       "      <td>1.215746e+07</td>\n",
       "      <td>1.215746e+07</td>\n",
       "      <td>1.214156e+07</td>\n",
       "    </tr>\n",
       "    <tr>\n",
       "      <th>mean</th>\n",
       "      <td>2.295275e+03</td>\n",
       "      <td>9.597751e+02</td>\n",
       "      <td>3.355556e-01</td>\n",
       "      <td>6.017981e+01</td>\n",
       "      <td>2.492023e+01</td>\n",
       "      <td>6.017971e+01</td>\n",
       "      <td>2.492023e+01</td>\n",
       "      <td>1.565044e+01</td>\n",
       "    </tr>\n",
       "    <tr>\n",
       "      <th>std</th>\n",
       "      <td>2.452067e+04</td>\n",
       "      <td>7.346528e+03</td>\n",
       "      <td>3.428006e+01</td>\n",
       "      <td>1.733003e-02</td>\n",
       "      <td>5.764062e-02</td>\n",
       "      <td>1.738792e-02</td>\n",
       "      <td>5.783290e-02</td>\n",
       "      <td>5.497952e+00</td>\n",
       "    </tr>\n",
       "    <tr>\n",
       "      <th>min</th>\n",
       "      <td>-4.292467e+06</td>\n",
       "      <td>0.000000e+00</td>\n",
       "      <td>-4.689001e+02</td>\n",
       "      <td>6.014792e+01</td>\n",
       "      <td>2.472137e+01</td>\n",
       "      <td>6.014792e+01</td>\n",
       "      <td>2.472137e+01</td>\n",
       "      <td>-5.200000e+00</td>\n",
       "    </tr>\n",
       "    <tr>\n",
       "      <th>25%</th>\n",
       "      <td>1.000000e+03</td>\n",
       "      <td>3.440000e+02</td>\n",
       "      <td>1.467403e-01</td>\n",
       "      <td>6.016723e+01</td>\n",
       "      <td>2.490969e+01</td>\n",
       "      <td>6.016689e+01</td>\n",
       "      <td>2.490969e+01</td>\n",
       "      <td>1.230000e+01</td>\n",
       "    </tr>\n",
       "    <tr>\n",
       "      <th>50%</th>\n",
       "      <td>1.739000e+03</td>\n",
       "      <td>5.860000e+02</td>\n",
       "      <td>1.863679e-01</td>\n",
       "      <td>6.017608e+01</td>\n",
       "      <td>2.493407e+01</td>\n",
       "      <td>6.017559e+01</td>\n",
       "      <td>2.493407e+01</td>\n",
       "      <td>1.640000e+01</td>\n",
       "    </tr>\n",
       "    <tr>\n",
       "      <th>75%</th>\n",
       "      <td>2.869000e+03</td>\n",
       "      <td>9.710000e+02</td>\n",
       "      <td>2.204348e-01</td>\n",
       "      <td>6.018964e+01</td>\n",
       "      <td>2.495029e+01</td>\n",
       "      <td>6.018964e+01</td>\n",
       "      <td>2.495029e+01</td>\n",
       "      <td>1.930000e+01</td>\n",
       "    </tr>\n",
       "    <tr>\n",
       "      <th>max</th>\n",
       "      <td>3.681399e+06</td>\n",
       "      <td>5.401659e+06</td>\n",
       "      <td>1.699104e+04</td>\n",
       "      <td>6.023911e+01</td>\n",
       "      <td>2.510620e+01</td>\n",
       "      <td>6.023911e+01</td>\n",
       "      <td>2.510620e+01</td>\n",
       "      <td>3.290000e+01</td>\n",
       "    </tr>\n",
       "  </tbody>\n",
       "</table>\n",
       "</div>"
      ],
      "text/plain": [
       "         distance_m  duration_sec  avg_speed_km_h  departure_latitude  \\\n",
       "count  1.215746e+07  1.215746e+07    1.215391e+07        1.215746e+07   \n",
       "mean   2.295275e+03  9.597751e+02    3.355556e-01        6.017981e+01   \n",
       "std    2.452067e+04  7.346528e+03    3.428006e+01        1.733003e-02   \n",
       "min   -4.292467e+06  0.000000e+00   -4.689001e+02        6.014792e+01   \n",
       "25%    1.000000e+03  3.440000e+02    1.467403e-01        6.016723e+01   \n",
       "50%    1.739000e+03  5.860000e+02    1.863679e-01        6.017608e+01   \n",
       "75%    2.869000e+03  9.710000e+02    2.204348e-01        6.018964e+01   \n",
       "max    3.681399e+06  5.401659e+06    1.699104e+04        6.023911e+01   \n",
       "\n",
       "       departure_longitude  return_latitude  return_longitude  \\\n",
       "count         1.215746e+07     1.215746e+07      1.215746e+07   \n",
       "mean          2.492023e+01     6.017971e+01      2.492023e+01   \n",
       "std           5.764062e-02     1.738792e-02      5.783290e-02   \n",
       "min           2.472137e+01     6.014792e+01      2.472137e+01   \n",
       "25%           2.490969e+01     6.016689e+01      2.490969e+01   \n",
       "50%           2.493407e+01     6.017559e+01      2.493407e+01   \n",
       "75%           2.495029e+01     6.018964e+01      2.495029e+01   \n",
       "max           2.510620e+01     6.023911e+01      2.510620e+01   \n",
       "\n",
       "       air_temperature_C  \n",
       "count       1.214156e+07  \n",
       "mean        1.565044e+01  \n",
       "std         5.497952e+00  \n",
       "min        -5.200000e+00  \n",
       "25%         1.230000e+01  \n",
       "50%         1.640000e+01  \n",
       "75%         1.930000e+01  \n",
       "max         3.290000e+01  "
      ]
     },
     "execution_count": 8,
     "metadata": {},
     "output_type": "execute_result"
    }
   ],
   "source": [
    "bike_df.describe()"
   ]
  },
  {
   "cell_type": "code",
   "execution_count": 9,
   "id": "72a5b061-0a36-4a26-96fd-f585395fd320",
   "metadata": {},
   "outputs": [],
   "source": [
    "#work only with duration of some values and filter duration of 0 seconds\n",
    "group1=bike_df[bike_df['duration_sec'] > 0]"
   ]
  },
  {
   "cell_type": "code",
   "execution_count": 10,
   "id": "19a89969-03dd-4c9e-bed0-1a21f0bf9678",
   "metadata": {},
   "outputs": [
    {
     "data": {
      "text/plain": [
       "1.0"
      ]
     },
     "execution_count": 10,
     "metadata": {},
     "output_type": "execute_result"
    }
   ],
   "source": [
    "#to check if the min value is higher than 0\n",
    "group1['duration_sec'].min()"
   ]
  },
  {
   "cell_type": "markdown",
   "id": "655d4986-2ef1-453e-9b82-138019d758f5",
   "metadata": {},
   "source": [
    "**MODE - the value that appears most frequently in a data set**"
   ]
  },
  {
   "cell_type": "code",
   "execution_count": 25,
   "id": "d398fcc9-6f0e-411a-88f8-b653af8a39fd",
   "metadata": {},
   "outputs": [
    {
     "name": "stdout",
     "output_type": "stream",
     "text": [
      "The most frequent duration of journey on bike is: 17.0 seconds.\n"
     ]
    }
   ],
   "source": [
    "mode = group1.loc[:,'duration_sec'].mode()\n",
    "mode = mode.get(key = 0)\n",
    "print('The most frequent duration of journey on bike is:',mode,'seconds.')"
   ]
  },
  {
   "cell_type": "markdown",
   "id": "1ef9acb2-a454-4ab1-a9a0-975db6060dbb",
   "metadata": {},
   "source": [
    "**MEDIAN - the value separating the higher half from the lower half of a data set**"
   ]
  },
  {
   "cell_type": "code",
   "execution_count": 28,
   "id": "3c6d4794-9355-49bb-97d1-564a8e0efd9a",
   "metadata": {},
   "outputs": [
    {
     "data": {
      "text/plain": [
       "586.0"
      ]
     },
     "execution_count": 28,
     "metadata": {},
     "output_type": "execute_result"
    }
   ],
   "source": [
    "group1.loc[:,'duration_sec'].median()"
   ]
  },
  {
   "cell_type": "code",
   "execution_count": 29,
   "id": "571eaf47-02c6-4579-ac98-3e63c809a41c",
   "metadata": {
    "tags": []
   },
   "outputs": [
    {
     "name": "stdout",
     "output_type": "stream",
     "text": [
      "The middle value of journey duration on bike is: 586.0 seconds.\n"
     ]
    }
   ],
   "source": [
    "median = group1.loc[:,'duration_sec'].median()\n",
    "print('The middle value of journey duration on bike is:',median,'seconds.')"
   ]
  },
  {
   "cell_type": "markdown",
   "id": "43ee44be-d3e3-4b7d-81a7-525951d53135",
   "metadata": {},
   "source": [
    "**STANDARD DEVIATION - number used to tell how measurements for a group are spread out from the average**"
   ]
  },
  {
   "cell_type": "code",
   "execution_count": 32,
   "id": "2db2d6b6-707a-44f1-8a1b-63190993001b",
   "metadata": {},
   "outputs": [
    {
     "name": "stdout",
     "output_type": "stream",
     "text": [
      "The standard deviation of journey duration on bike is: 7347.58 seconds.\n"
     ]
    }
   ],
   "source": [
    "std = group1.loc[:,'duration_sec'].std()\n",
    "print('The standard deviation of journey duration on bike is:',round(std,2),'seconds.')"
   ]
  },
  {
   "cell_type": "markdown",
   "id": "0347a6b3-9781-40b4-8b4d-6ec4b47f8b69",
   "metadata": {},
   "source": [
    "**ARITHMETIC MEAN - the result you get by adding two or more amounts together and dividing the total by the number of amounts**"
   ]
  },
  {
   "cell_type": "code",
   "execution_count": 34,
   "id": "2fd01e2d-7435-4d9f-8ef7-a89789d7a77e",
   "metadata": {},
   "outputs": [
    {
     "name": "stdout",
     "output_type": "stream",
     "text": [
      "The average of a bike journey duration is: 960.06 seconds.\n"
     ]
    }
   ],
   "source": [
    "mean = group1.loc[:,'duration_sec'].mean()\n",
    "print('The average of a bike journey duration is:',round(mean,2),'seconds.')"
   ]
  },
  {
   "cell_type": "markdown",
   "id": "d6159b6a-865e-486c-a090-8a92c452c009",
   "metadata": {},
   "source": [
    "### Execise 2 - statistics: correlation of duration and temperature."
   ]
  },
  {
   "cell_type": "markdown",
   "id": "602d0df7-989b-482b-a0cd-0b0d044b3cef",
   "metadata": {},
   "source": [
    "Correlation doesn't mean the lower temperatures are causing less duration, but I would like to analyze these two values because they might influence each other."
   ]
  },
  {
   "cell_type": "code",
   "execution_count": 29,
   "id": "504986b9-4f91-43f8-951e-fc05b7762588",
   "metadata": {},
   "outputs": [
    {
     "data": {
      "text/plain": [
       "-0.0013979666540646577"
      ]
     },
     "execution_count": 29,
     "metadata": {},
     "output_type": "execute_result"
    }
   ],
   "source": [
    "bike_df['duration_sec'].corr(bike_df['air_temperature_C'])"
   ]
  },
  {
   "cell_type": "markdown",
   "id": "2b73a490-222d-4867-afe8-a307ee318502",
   "metadata": {},
   "source": [
    "Correlation between duration and temperature is very close to 0. That means there is no meaningful relationship between variables. My initial guess was wrong!"
   ]
  },
  {
   "cell_type": "markdown",
   "id": "a903aaf7-f074-472a-8a77-f8ca6fe5e5f2",
   "metadata": {},
   "source": [
    "## Level 2"
   ]
  },
  {
   "cell_type": "markdown",
   "id": "5bfa2fd1-8c64-493c-a9d8-2658ecd4ecef",
   "metadata": {},
   "source": [
    "### Execise 3"
   ]
  },
  {
   "cell_type": "markdown",
   "id": "cbe27a8a-fb53-4bb2-aa53-b5b4049c88c7",
   "metadata": {},
   "source": [
    "#### Correlation"
   ]
  },
  {
   "cell_type": "code",
   "execution_count": 36,
   "id": "436c8994-a404-49ce-a1b7-e8a56437dd0b",
   "metadata": {},
   "outputs": [
    {
     "data": {
      "text/html": [
       "<style  type=\"text/css\" >\n",
       "#T_79d5b_row0_col0,#T_79d5b_row1_col1,#T_79d5b_row2_col2,#T_79d5b_row3_col3,#T_79d5b_row4_col4,#T_79d5b_row5_col5,#T_79d5b_row6_col6,#T_79d5b_row7_col7{\n",
       "            background-color:  #08306b;\n",
       "            color:  #f1f1f1;\n",
       "        }#T_79d5b_row0_col1{\n",
       "            background-color:  #f5fafe;\n",
       "            color:  #000000;\n",
       "        }#T_79d5b_row0_col2,#T_79d5b_row2_col0{\n",
       "            background-color:  #2f7fbc;\n",
       "            color:  #000000;\n",
       "        }#T_79d5b_row0_col3,#T_79d5b_row0_col5{\n",
       "            background-color:  #f0f6fd;\n",
       "            color:  #000000;\n",
       "        }#T_79d5b_row0_col4,#T_79d5b_row0_col6,#T_79d5b_row1_col4,#T_79d5b_row4_col7,#T_79d5b_row6_col7{\n",
       "            background-color:  #f4f9fe;\n",
       "            color:  #000000;\n",
       "        }#T_79d5b_row0_col7,#T_79d5b_row1_col3,#T_79d5b_row1_col5{\n",
       "            background-color:  #f1f7fd;\n",
       "            color:  #000000;\n",
       "        }#T_79d5b_row1_col0,#T_79d5b_row4_col1,#T_79d5b_row5_col1{\n",
       "            background-color:  #f6faff;\n",
       "            color:  #000000;\n",
       "        }#T_79d5b_row1_col2,#T_79d5b_row2_col1,#T_79d5b_row3_col0,#T_79d5b_row3_col1,#T_79d5b_row3_col2,#T_79d5b_row3_col7,#T_79d5b_row4_col0,#T_79d5b_row4_col2,#T_79d5b_row5_col0,#T_79d5b_row5_col2,#T_79d5b_row5_col7,#T_79d5b_row6_col0,#T_79d5b_row6_col1,#T_79d5b_row6_col2,#T_79d5b_row7_col0,#T_79d5b_row7_col1,#T_79d5b_row7_col2,#T_79d5b_row7_col3,#T_79d5b_row7_col4,#T_79d5b_row7_col5,#T_79d5b_row7_col6{\n",
       "            background-color:  #f7fbff;\n",
       "            color:  #000000;\n",
       "        }#T_79d5b_row1_col6,#T_79d5b_row2_col4,#T_79d5b_row2_col6{\n",
       "            background-color:  #f5f9fe;\n",
       "            color:  #000000;\n",
       "        }#T_79d5b_row1_col7,#T_79d5b_row2_col3,#T_79d5b_row2_col5,#T_79d5b_row2_col7{\n",
       "            background-color:  #f2f7fd;\n",
       "            color:  #000000;\n",
       "        }#T_79d5b_row3_col4,#T_79d5b_row6_col3{\n",
       "            background-color:  #dbe9f6;\n",
       "            color:  #000000;\n",
       "        }#T_79d5b_row3_col5,#T_79d5b_row5_col3{\n",
       "            background-color:  #2474b7;\n",
       "            color:  #f1f1f1;\n",
       "        }#T_79d5b_row3_col6{\n",
       "            background-color:  #deebf7;\n",
       "            color:  #000000;\n",
       "        }#T_79d5b_row4_col3{\n",
       "            background-color:  #d8e7f5;\n",
       "            color:  #000000;\n",
       "        }#T_79d5b_row4_col5{\n",
       "            background-color:  #dae8f6;\n",
       "            color:  #000000;\n",
       "        }#T_79d5b_row4_col6,#T_79d5b_row6_col4{\n",
       "            background-color:  #084b93;\n",
       "            color:  #f1f1f1;\n",
       "        }#T_79d5b_row5_col4{\n",
       "            background-color:  #ddeaf7;\n",
       "            color:  #000000;\n",
       "        }#T_79d5b_row5_col6{\n",
       "            background-color:  #dce9f6;\n",
       "            color:  #000000;\n",
       "        }#T_79d5b_row6_col5{\n",
       "            background-color:  #d9e7f5;\n",
       "            color:  #000000;\n",
       "        }</style><table id=\"T_79d5b_\" ><thead>    <tr>        <th class=\"blank level0\" ></th>        <th class=\"col_heading level0 col0\" >distance_m</th>        <th class=\"col_heading level0 col1\" >duration_sec</th>        <th class=\"col_heading level0 col2\" >avg_speed_km_h</th>        <th class=\"col_heading level0 col3\" >departure_latitude</th>        <th class=\"col_heading level0 col4\" >departure_longitude</th>        <th class=\"col_heading level0 col5\" >return_latitude</th>        <th class=\"col_heading level0 col6\" >return_longitude</th>        <th class=\"col_heading level0 col7\" >air_temperature_C</th>    </tr></thead><tbody>\n",
       "                <tr>\n",
       "                        <th id=\"T_79d5b_level0_row0\" class=\"row_heading level0 row0\" >distance_m</th>\n",
       "                        <td id=\"T_79d5b_row0_col0\" class=\"data row0 col0\" >1.000000</td>\n",
       "                        <td id=\"T_79d5b_row0_col1\" class=\"data row0 col1\" >0.007743</td>\n",
       "                        <td id=\"T_79d5b_row0_col2\" class=\"data row0 col2\" >0.697040</td>\n",
       "                        <td id=\"T_79d5b_row0_col3\" class=\"data row0 col3\" >0.004493</td>\n",
       "                        <td id=\"T_79d5b_row0_col4\" class=\"data row0 col4\" >0.004420</td>\n",
       "                        <td id=\"T_79d5b_row0_col5\" class=\"data row0 col5\" >0.004400</td>\n",
       "                        <td id=\"T_79d5b_row0_col6\" class=\"data row0 col6\" >0.004349</td>\n",
       "                        <td id=\"T_79d5b_row0_col7\" class=\"data row0 col7\" >0.001453</td>\n",
       "            </tr>\n",
       "            <tr>\n",
       "                        <th id=\"T_79d5b_level0_row1\" class=\"row_heading level0 row1\" >duration_sec</th>\n",
       "                        <td id=\"T_79d5b_row1_col0\" class=\"data row1 col0\" >0.007743</td>\n",
       "                        <td id=\"T_79d5b_row1_col1\" class=\"data row1 col1\" >1.000000</td>\n",
       "                        <td id=\"T_79d5b_row1_col2\" class=\"data row1 col2\" >-0.000732</td>\n",
       "                        <td id=\"T_79d5b_row1_col3\" class=\"data row1 col3\" >0.001837</td>\n",
       "                        <td id=\"T_79d5b_row1_col4\" class=\"data row1 col4\" >0.002643</td>\n",
       "                        <td id=\"T_79d5b_row1_col5\" class=\"data row1 col5\" >0.002946</td>\n",
       "                        <td id=\"T_79d5b_row1_col6\" class=\"data row1 col6\" >0.002245</td>\n",
       "                        <td id=\"T_79d5b_row1_col7\" class=\"data row1 col7\" >-0.001398</td>\n",
       "            </tr>\n",
       "            <tr>\n",
       "                        <th id=\"T_79d5b_level0_row2\" class=\"row_heading level0 row2\" >avg_speed_km_h</th>\n",
       "                        <td id=\"T_79d5b_row2_col0\" class=\"data row2 col0\" >0.697040</td>\n",
       "                        <td id=\"T_79d5b_row2_col1\" class=\"data row2 col1\" >-0.000732</td>\n",
       "                        <td id=\"T_79d5b_row2_col2\" class=\"data row2 col2\" >1.000000</td>\n",
       "                        <td id=\"T_79d5b_row2_col3\" class=\"data row2 col3\" >-0.000599</td>\n",
       "                        <td id=\"T_79d5b_row2_col4\" class=\"data row2 col4\" >0.001217</td>\n",
       "                        <td id=\"T_79d5b_row2_col5\" class=\"data row2 col5\" >-0.000604</td>\n",
       "                        <td id=\"T_79d5b_row2_col6\" class=\"data row2 col6\" >0.001209</td>\n",
       "                        <td id=\"T_79d5b_row2_col7\" class=\"data row2 col7\" >-0.000910</td>\n",
       "            </tr>\n",
       "            <tr>\n",
       "                        <th id=\"T_79d5b_level0_row3\" class=\"row_heading level0 row3\" >departure_latitude</th>\n",
       "                        <td id=\"T_79d5b_row3_col0\" class=\"data row3 col0\" >0.004493</td>\n",
       "                        <td id=\"T_79d5b_row3_col1\" class=\"data row3 col1\" >0.001837</td>\n",
       "                        <td id=\"T_79d5b_row3_col2\" class=\"data row3 col2\" >-0.000599</td>\n",
       "                        <td id=\"T_79d5b_row3_col3\" class=\"data row3 col3\" >1.000000</td>\n",
       "                        <td id=\"T_79d5b_row3_col4\" class=\"data row3 col4\" >0.129105</td>\n",
       "                        <td id=\"T_79d5b_row3_col5\" class=\"data row3 col5\" >0.728923</td>\n",
       "                        <td id=\"T_79d5b_row3_col6\" class=\"data row3 col6\" >0.116697</td>\n",
       "                        <td id=\"T_79d5b_row3_col7\" class=\"data row3 col7\" >-0.032527</td>\n",
       "            </tr>\n",
       "            <tr>\n",
       "                        <th id=\"T_79d5b_level0_row4\" class=\"row_heading level0 row4\" >departure_longitude</th>\n",
       "                        <td id=\"T_79d5b_row4_col0\" class=\"data row4 col0\" >0.004420</td>\n",
       "                        <td id=\"T_79d5b_row4_col1\" class=\"data row4 col1\" >0.002643</td>\n",
       "                        <td id=\"T_79d5b_row4_col2\" class=\"data row4 col2\" >0.001217</td>\n",
       "                        <td id=\"T_79d5b_row4_col3\" class=\"data row4 col3\" >0.129105</td>\n",
       "                        <td id=\"T_79d5b_row4_col4\" class=\"data row4 col4\" >1.000000</td>\n",
       "                        <td id=\"T_79d5b_row4_col5\" class=\"data row4 col5\" >0.117984</td>\n",
       "                        <td id=\"T_79d5b_row4_col6\" class=\"data row4 col6\" >0.895655</td>\n",
       "                        <td id=\"T_79d5b_row4_col7\" class=\"data row4 col7\" >-0.013786</td>\n",
       "            </tr>\n",
       "            <tr>\n",
       "                        <th id=\"T_79d5b_level0_row5\" class=\"row_heading level0 row5\" >return_latitude</th>\n",
       "                        <td id=\"T_79d5b_row5_col0\" class=\"data row5 col0\" >0.004400</td>\n",
       "                        <td id=\"T_79d5b_row5_col1\" class=\"data row5 col1\" >0.002946</td>\n",
       "                        <td id=\"T_79d5b_row5_col2\" class=\"data row5 col2\" >-0.000604</td>\n",
       "                        <td id=\"T_79d5b_row5_col3\" class=\"data row5 col3\" >0.728923</td>\n",
       "                        <td id=\"T_79d5b_row5_col4\" class=\"data row5 col4\" >0.117984</td>\n",
       "                        <td id=\"T_79d5b_row5_col5\" class=\"data row5 col5\" >1.000000</td>\n",
       "                        <td id=\"T_79d5b_row5_col6\" class=\"data row5 col6\" >0.129012</td>\n",
       "                        <td id=\"T_79d5b_row5_col7\" class=\"data row5 col7\" >-0.032058</td>\n",
       "            </tr>\n",
       "            <tr>\n",
       "                        <th id=\"T_79d5b_level0_row6\" class=\"row_heading level0 row6\" >return_longitude</th>\n",
       "                        <td id=\"T_79d5b_row6_col0\" class=\"data row6 col0\" >0.004349</td>\n",
       "                        <td id=\"T_79d5b_row6_col1\" class=\"data row6 col1\" >0.002245</td>\n",
       "                        <td id=\"T_79d5b_row6_col2\" class=\"data row6 col2\" >0.001209</td>\n",
       "                        <td id=\"T_79d5b_row6_col3\" class=\"data row6 col3\" >0.116697</td>\n",
       "                        <td id=\"T_79d5b_row6_col4\" class=\"data row6 col4\" >0.895655</td>\n",
       "                        <td id=\"T_79d5b_row6_col5\" class=\"data row6 col5\" >0.129012</td>\n",
       "                        <td id=\"T_79d5b_row6_col6\" class=\"data row6 col6\" >1.000000</td>\n",
       "                        <td id=\"T_79d5b_row6_col7\" class=\"data row6 col7\" >-0.012419</td>\n",
       "            </tr>\n",
       "            <tr>\n",
       "                        <th id=\"T_79d5b_level0_row7\" class=\"row_heading level0 row7\" >air_temperature_C</th>\n",
       "                        <td id=\"T_79d5b_row7_col0\" class=\"data row7 col0\" >0.001453</td>\n",
       "                        <td id=\"T_79d5b_row7_col1\" class=\"data row7 col1\" >-0.001398</td>\n",
       "                        <td id=\"T_79d5b_row7_col2\" class=\"data row7 col2\" >-0.000910</td>\n",
       "                        <td id=\"T_79d5b_row7_col3\" class=\"data row7 col3\" >-0.032527</td>\n",
       "                        <td id=\"T_79d5b_row7_col4\" class=\"data row7 col4\" >-0.013786</td>\n",
       "                        <td id=\"T_79d5b_row7_col5\" class=\"data row7 col5\" >-0.032058</td>\n",
       "                        <td id=\"T_79d5b_row7_col6\" class=\"data row7 col6\" >-0.012419</td>\n",
       "                        <td id=\"T_79d5b_row7_col7\" class=\"data row7 col7\" >1.000000</td>\n",
       "            </tr>\n",
       "    </tbody></table>"
      ],
      "text/plain": [
       "<pandas.io.formats.style.Styler at 0x123d51b20>"
      ]
     },
     "execution_count": 36,
     "metadata": {},
     "output_type": "execute_result"
    }
   ],
   "source": [
    "corr = bike_df.corr()\n",
    "corr.style.background_gradient(cmap=\"Blues\")"
   ]
  },
  {
   "cell_type": "code",
   "execution_count": 38,
   "id": "27d1228a-fffb-4cd3-bb10-b43edb095514",
   "metadata": {},
   "outputs": [
    {
     "data": {
      "image/png": "[encoded data removed]",
      "text/plain": [
       "<Figure size 1080x288 with 2 Axes>"
      ]
     },
     "metadata": {},
     "output_type": "display_data"
    }
   ],
   "source": [
    "fig,ax = plt.subplots(figsize=(15,4))\n",
    "sns.set_theme(style=\"white\")\n",
    "cmap = sns.diverging_palette(230, 20, as_cmap=True)\n",
    "\n",
    "matrix = np.triu(corr)\n",
    "sns.heatmap(corr, annot=True, mask=matrix, cmap=cmap)\n",
    "plt.title('Correlation - City bikes in Helsinki', fontsize = 15)\n",
    "plt.show()"
   ]
  },
  {
   "cell_type": "markdown",
   "id": "556e8680-6f4e-4865-a8cc-43996465488f",
   "metadata": {},
   "source": [
    "## Level 3"
   ]
  },
  {
   "cell_type": "markdown",
   "id": "77ba1cb7-ff75-4f45-95a4-1d3e4791a59a",
   "metadata": {},
   "source": [
    "### Execise 4"
   ]
  },
  {
   "cell_type": "markdown",
   "id": "dca0db01-72a5-48fb-8ae7-02518cdf141f",
   "metadata": {},
   "source": [
    "#### Geometric mean and harmonic mean"
   ]
  },
  {
   "cell_type": "code",
   "execution_count": 40,
   "id": "174341ca-3ad1-4265-9fd6-d28cb89825cf",
   "metadata": {},
   "outputs": [
    {
     "name": "stdout",
     "output_type": "stream",
     "text": [
      "The geometric mean is: 535.0 seconds.\n"
     ]
    }
   ],
   "source": [
    "geo_mean = scipy.stats.gmean(group1.loc[:,'duration_sec'])\n",
    "print('The geometric mean is:',round(geo_mean),'seconds.')"
   ]
  },
  {
   "cell_type": "code",
   "execution_count": 41,
   "id": "0c906cbc-696c-4d28-8c05-72d2b4177fd1",
   "metadata": {},
   "outputs": [
    {
     "name": "stdout",
     "output_type": "stream",
     "text": [
      "The harmonic is: 257 seconds.\n"
     ]
    }
   ],
   "source": [
    "har_mean = statistics.harmonic_mean(group1['duration_sec'])\n",
    "print('The harmonic is:',round(har_mean),'seconds.')"
   ]
  }
 ],
 "metadata": {
  "kernelspec": {
   "display_name": "Python 3",
   "language": "python",
   "name": "python3"
  },
  "language_info": {
   "codemirror_mode": {
    "name": "ipython",
    "version": 3
   },
   "file_extension": ".py",
   "mimetype": "text/x-python",
   "name": "python",
   "nbconvert_exporter": "python",
   "pygments_lexer": "ipython3",
   "version": "3.8.8"
  }
 },
 "nbformat": 4,
 "nbformat_minor": 5
}
